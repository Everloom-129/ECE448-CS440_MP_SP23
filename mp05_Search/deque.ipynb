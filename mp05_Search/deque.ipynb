{
 "cells": [
  {
   "cell_type": "code",
   "execution_count": 33,
   "metadata": {},
   "outputs": [
    {
     "name": "stdout",
     "output_type": "stream",
     "text": [
      "deque(['a', 'b', 'c', 'd', 4])\n",
      "deque([0, 1, 2, 3, 'k'])\n"
     ]
    }
   ],
   "source": [
    "import numpy as np \n",
    "from collections import deque\n",
    "\n",
    "dstr = deque(\"abcd\")\n",
    "dlist1 = deque([0, 1, 2, 3])\n",
    "dstr.append(4)\n",
    "dlist1.append(\"k\")\n",
    "print(dstr)\n",
    "print(dlist1)\n",
    "#deque(['a', 'b', 'c', 'd', 4])\n",
    "#deque([0, 1, 2, 3, 'k'])\n",
    "\n",
    "\n"
   ]
  },
  {
   "cell_type": "code",
   "execution_count": 7,
   "metadata": {},
   "outputs": [
    {
     "ename": "TypeError",
     "evalue": "'Queue' object is not iterable",
     "output_type": "error",
     "traceback": [
      "\u001b[1;31m---------------------------------------------------------------------------\u001b[0m",
      "\u001b[1;31mTypeError\u001b[0m                                 Traceback (most recent call last)",
      "\u001b[1;32md:\\# Courses\\## 大三\\SP23\\CS440\\mp05\\deque.ipynb Cell 2\u001b[0m in \u001b[0;36m<cell line: 6>\u001b[1;34m()\u001b[0m\n\u001b[0;32m      <a href='vscode-notebook-cell:/d%3A/%23%20Courses/%23%23%20%E5%A4%A7%E4%B8%89/SP23/CS440/mp05/deque.ipynb#W3sZmlsZQ%3D%3D?line=3'>4</a>\u001b[0m list1 \u001b[39m=\u001b[39m [\u001b[39m1\u001b[39m,\u001b[39m2\u001b[39m,\u001b[39m3\u001b[39m,\u001b[39m4\u001b[39m]\n\u001b[0;32m      <a href='vscode-notebook-cell:/d%3A/%23%20Courses/%23%23%20%E5%A4%A7%E4%B8%89/SP23/CS440/mp05/deque.ipynb#W3sZmlsZQ%3D%3D?line=4'>5</a>\u001b[0m testq\u001b[39m.\u001b[39mput(list1)\n\u001b[1;32m----> <a href='vscode-notebook-cell:/d%3A/%23%20Courses/%23%23%20%E5%A4%A7%E4%B8%89/SP23/CS440/mp05/deque.ipynb#W3sZmlsZQ%3D%3D?line=5'>6</a>\u001b[0m \u001b[39mfor\u001b[39;00m i \u001b[39min\u001b[39;00m testq:\n\u001b[0;32m      <a href='vscode-notebook-cell:/d%3A/%23%20Courses/%23%23%20%E5%A4%A7%E4%B8%89/SP23/CS440/mp05/deque.ipynb#W3sZmlsZQ%3D%3D?line=6'>7</a>\u001b[0m     \u001b[39mprint\u001b[39m(i)\n",
      "\u001b[1;31mTypeError\u001b[0m: 'Queue' object is not iterable"
     ]
    }
   ],
   "source": [
    "import queue as q\n",
    "\n",
    "testq = q.Queue(maxsize=10)\n",
    "list1 = [1,2,3,4]\n",
    "testq.put(list1)\n",
    "for i in testq:\n",
    "    print(i)"
   ]
  },
  {
   "cell_type": "code",
   "execution_count": 34,
   "metadata": {},
   "outputs": [
    {
     "name": "stdout",
     "output_type": "stream",
     "text": [
      "deque([11, 'a', 'b', 'c', 'd', 4, 12])\n",
      "deque(['a', 'b', 'c'])\n"
     ]
    }
   ],
   "source": [
    "dstr.appendleft(11)\n",
    "dstr.append(12)\n",
    "print(dstr)\n",
    "dstr.pop()\n",
    "dstr.pop()\n",
    "dstr.pop()\n",
    "dstr.popleft()\n",
    "print(dstr)\n"
   ]
  },
  {
   "cell_type": "code",
   "execution_count": 35,
   "metadata": {},
   "outputs": [
    {
     "name": "stdout",
     "output_type": "stream",
     "text": [
      "deque(['b', '2', 1, 'b', '2', 1, 'a', 'b', 'c', 1, '2', 'b'])\n",
      "deque(['b', '2', 'b', '2', 'a', 'b', 'c', '2', 'b'])\n"
     ]
    }
   ],
   "source": [
    "ex = [1,'2','b']\n",
    "dstr.extend(ex)\n",
    "dstr.extendleft(ex+ex)\n",
    "print(dstr)\n",
    "\n",
    "dstr.remove(1)\n",
    "dstr.remove(1)\n",
    "dstr.remove(1)\n",
    "\n",
    "print(dstr)"
   ]
  }
 ],
 "metadata": {
  "kernelspec": {
   "display_name": "base",
   "language": "python",
   "name": "python3"
  },
  "language_info": {
   "codemirror_mode": {
    "name": "ipython",
    "version": 3
   },
   "file_extension": ".py",
   "mimetype": "text/x-python",
   "name": "python",
   "nbconvert_exporter": "python",
   "pygments_lexer": "ipython3",
   "version": "3.9.12"
  },
  "orig_nbformat": 4,
  "vscode": {
   "interpreter": {
    "hash": "ad2bdc8ecc057115af97d19610ffacc2b4e99fae6737bb82f5d7fb13d2f2c186"
   }
  }
 },
 "nbformat": 4,
 "nbformat_minor": 2
}
