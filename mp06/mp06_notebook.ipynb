{
 "cells": [
  {
   "attachments": {},
   "cell_type": "markdown",
   "metadata": {},
   "source": [
    "<p align=\"center\">\n",
    "    <img width=\"400\" src=\"images/assignment5_splash.png\"/> \n",
    "</p>\n"
   ]
  },
  {
   "cell_type": "markdown",
   "metadata": {},
   "source": [
    "# CS440/ECE448 Spring 2023\n",
    "# MP06: Two-Player Games"
   ]
  },
  {
   "attachments": {},
   "cell_type": "markdown",
   "metadata": {},
   "source": [
    "The first thing you need to do is to download this file: <a href=\"mp06.zip\">mp06.zip</a>.  It has the following content:\n",
    "\n",
    "* `main.py`. This file plays the game (python main.py).\n",
    "* `submitted.py`: Your homework. Edit, and then submit to <a href=\"https://www.gradescope.com/courses/486387\">Gradescope</a>.\n",
    "* `mp06_notebook.ipynb`: This is a <a href=\"https://anaconda.org/anaconda/jupyter\">Jupyter</a> notebook to help you debug.  You can completely ignore it if you want, although you might find that it gives you useful instructions.\n",
    "* `grade.py`: Once your homework seems to be working, you can test it by typing `python grade.py`, which will run the tests in `tests/tests_visible.py`.\n",
    "* `tests/test_visible.py`: This file contains about half of the <a href=\"https://docs.python.org/3/library/unittest.html\">unit tests</a> that Gradescope will run in order to grade your homework.  If you can get a perfect score on these tests, then you should also get a perfect score on the additional hidden tests that Gradescope uses.\n",
    "* `grading_examples/`. This directory contains the JSON answer keys on which your grade is based (the visible ones). You are strongly encouraged to read these, to see what format your code should produce.\n",
    "* `chess/`, `res/`, `tools/`. These directories contain code and resources from PyChess that are necessary to run the assignment. \n",
    "* `requirements.txt`: This tells you which python packages you need to have installed, in order to run `grade.py`.  You can install all of those packages by typing `pip install -r requirements.txt` or `pip3 install -r requirements.txt`."
   ]
  },
  {
   "cell_type": "markdown",
   "metadata": {},
   "source": [
    "This file (`mp06_notebook.ipynb`) will walk you through the whole MP, giving you instructions and debugging tips as you go.\n",
    "\n",
    "### Table of Contents\n",
    "\n",
    "1. <a href=\"#section1\">Getting Started</a>\n",
    "1. <a href=\"#section2\">the PyChess API</a>\n",
    "1. <a href=\"#section3\">Assignment</a>\n",
    "1. <a href=\"#section4\">Extra Credit</a>\n",
    "1. <a href=\"#section5\">Submitted to Gradescope</a>\n"
   ]
  },
  {
   "cell_type": "markdown",
   "metadata": {},
   "source": [
    "<a id='section1'></a>"
   ]
  },
  {
   "cell_type": "markdown",
   "metadata": {},
   "source": [
    "## I. Getting Started"
   ]
  },
  {
   "cell_type": "markdown",
   "metadata": {},
   "source": [
    "The `main.py` file will be the primary entry point for this assignment. Let’s start by running it as follows:\n"
   ]
  },
  {
   "cell_type": "code",
   "execution_count": 1,
   "metadata": {},
   "outputs": [
    {
     "name": "stdout",
     "output_type": "stream",
     "text": [
      "pygame 2.1.3 (SDL 2.0.22, Python 3.9.12)\n",
      "Hello from the pygame community. https://www.pygame.org/contribute.html\n",
      "usage: main.py [-h] [--player0 {random,human,minimax,alphabeta,stochastic}]\n",
      "               [--player1 {random,human,minimax,alphabeta,stochastic}]\n",
      "               [--depth0 DEPTH0] [--depth1 DEPTH1] [--breadth0 BREADTH0]\n",
      "               [--breadth1 BREADTH1] [--loadgame LOADGAME]\n",
      "\n",
      "CS440 MP5 Chess\n",
      "\n",
      "optional arguments:\n",
      "  -h, --help            show this help message and exit\n",
      "  --player0 {random,human,minimax,alphabeta,stochastic}\n",
      "                        Is player 0 a human, a random player, or some type of\n",
      "                        AI? (default: human)\n",
      "  --player1 {random,human,minimax,alphabeta,stochastic}\n",
      "                        Is player 1 a human, a random player, or some type of\n",
      "                        AI? (default: random)\n",
      "  --depth0 DEPTH0       Depth to which player 0 should search, if player 0 is\n",
      "                        an AI. (default: 2)\n",
      "  --depth1 DEPTH1       Depth to which player 1 should search, if player 1 is\n",
      "                        an AI. (default: 2)\n",
      "  --breadth0 BREADTH0   Breadth to which player 0 should search, if player 0\n",
      "                        is stochastic. (default: 2)\n",
      "  --breadth1 BREADTH1   Breadth to which player 1 should search, if player 1\n",
      "                        is stochastic. (default: 2)\n",
      "  --loadgame LOADGAME   Load a saved game from res/savedGames (default: None)\n"
     ]
    }
   ],
   "source": [
    "!python main.py --help\n"
   ]
  },
  {
   "cell_type": "markdown",
   "metadata": {},
   "source": [
    "This will list the available options.  You will see that both player0  and player1 can  be human, or one of four types  of AI: random, minimax, alphabeta, or stochastic. The default is `--player0 human --player1 random`, because the random player is the only one already implemented.  In order to play against an \"AI\" that makes moves at random, type\n"
   ]
  },
  {
   "cell_type": "code",
   "execution_count": 4,
   "metadata": {},
   "outputs": [
    {
     "name": "stdout",
     "output_type": "stream",
     "text": [
      "pygame 2.1.3 (SDL 2.0.22, Python 3.9.12)\n",
      "Hello from the pygame community. https://www.pygame.org/contribute.html\n"
     ]
    }
   ],
   "source": [
    "!python main.py --loadgame game1.txt\n"
   ]
  },
  {
   "attachments": {},
   "cell_type": "markdown",
   "metadata": {},
   "source": [
    "You should see a chess board pop up.  When you click on any white piece (you may need to double-click), you should see bright neon green dots centered in all of the squares to which that piece can legally move, like this:\n",
    "\n",
    "<p align=\"center\">\n",
    "    <img width=\"400\" src=\"images/assignment5_human.png\"/> \n",
    "</p>\n",
    "\n",
    "When you click (or double-click) on one of those green dots, your piece will move there.  Then the computer will move one of the black pieces, and it will be your turn again.\n",
    "\n",
    "If you have trouble using the mouse to play, you can debug your code by watching the computer play against itself.  For example,\n",
    "```bash\n",
    "python main.py --player0 random --player1 random\n",
    "```\n",
    "\n",
    "If you want to start from one of the stored game positions, you can load them as, for example:\n",
    "```bash\n",
    "python main.py --loadgame game1.txt\n",
    "```\n",
    "\n",
    "We will grade your submissions using `grade.py`. This file is available to you, so that you can understand how this assignment will be graded.\n",
    "\n",
    "Let’s see what happens when we run this script:\n"
   ]
  },
  {
   "cell_type": "code",
   "execution_count": 8,
   "metadata": {},
   "outputs": [
    {
     "name": "stderr",
     "output_type": "stream",
     "text": [
      "FFF....\n",
      "======================================================================\n",
      "FAIL: test_alphabeta02 (test_visible.grading_tests)\n",
      "----------------------------------------------------------------------\n",
      "Traceback (most recent call last):\n",
      "  File \"d:\\# Courses\\## 大三\\SP23\\CS440\\mp06\\tests\\test_visible.py\", line 78, in test_alphabeta02\n",
      "    general_test(self, load_game(0), 'alphabeta_game%d_depth%d'%(0,2), submitted.alphabeta, 2)\n",
      "  File \"d:\\# Courses\\## 大三\\SP23\\CS440\\mp06\\tests\\test_visible.py\", line 67, in general_test\n",
      "    recursive_tree_test(testcase, label, refTree, hypTree, '')\n",
      "  File \"d:\\# Courses\\## 大三\\SP23\\CS440\\mp06\\tests\\test_visible.py\", line 44, in recursive_tree_test\n",
      "    recursive_tree_test(testcase, label, ref[k], hyp[k], codelist+'['+k+']')\n",
      "  File \"d:\\# Courses\\## 大三\\SP23\\CS440\\mp06\\tests\\test_visible.py\", line 43, in recursive_tree_test\n",
      "    testcase.assertIn(k, ref, msg)\n",
      "AssertionError: 'd2d3' not found in {'a2a4': {}, 'a2a3': {}, 'b2b4': {}, 'b2b3': {}, 'd2d4': {}} : alphabeta_game0_depth2 moveTree[b7b5] contains d2d3 but, that should have been pruned away.\n",
      "\n",
      "======================================================================\n",
      "FAIL: test_alphabeta12 (test_visible.grading_tests)\n",
      "----------------------------------------------------------------------\n",
      "Traceback (most recent call last):\n",
      "  File \"d:\\# Courses\\## 大三\\SP23\\CS440\\mp06\\tests\\test_visible.py\", line 88, in test_alphabeta12\n",
      "    general_test(self, load_game(1), 'alphabeta_game%d_depth%d'%(1,2), submitted.alphabeta, 2)\n",
      "  File \"d:\\# Courses\\## 大三\\SP23\\CS440\\mp06\\tests\\test_visible.py\", line 67, in general_test\n",
      "    recursive_tree_test(testcase, label, refTree, hypTree, '')\n",
      "  File \"d:\\# Courses\\## 大三\\SP23\\CS440\\mp06\\tests\\test_visible.py\", line 44, in recursive_tree_test\n",
      "    recursive_tree_test(testcase, label, ref[k], hyp[k], codelist+'['+k+']')\n",
      "  File \"d:\\# Courses\\## 大三\\SP23\\CS440\\mp06\\tests\\test_visible.py\", line 43, in recursive_tree_test\n",
      "    testcase.assertIn(k, ref, msg)\n",
      "AssertionError: 'g2f2' not found in {'a4a5': {}, 'a4b5': {}, 'c4c5': {}, 'c4b5': {}, 'e3d4': {}, 'h2h4': {}, 'h2h3': {}, 'a1b1': {}, 'a1c1': {}, 'a1d1': {}, 'a1a2': {}, 'a1a3': {}, 'd2c1': {}, 'd2c3': {}, 'd2b4': {}, 'd2a5': {}, 'g2h3': {}, 'g2f3': {}, 'g2e4': {}} : alphabeta_game1_depth2 moveTree[b7b5] contains g2f2 but, that should have been pruned away.\n",
      "\n",
      "======================================================================\n",
      "FAIL: test_alphabeta13 (test_visible.grading_tests)\n",
      "----------------------------------------------------------------------\n",
      "Traceback (most recent call last):\n",
      "  File \"d:\\# Courses\\## 大三\\SP23\\CS440\\mp06\\tests\\test_visible.py\", line 91, in test_alphabeta13\n",
      "    general_test(self, load_game(1), 'alphabeta_game%d_depth%d'%(1,3), submitted.alphabeta, 3)\n",
      "  File \"d:\\# Courses\\## 大三\\SP23\\CS440\\mp06\\tests\\test_visible.py\", line 67, in general_test\n",
      "    recursive_tree_test(testcase, label, refTree, hypTree, '')\n",
      "  File \"d:\\# Courses\\## 大三\\SP23\\CS440\\mp06\\tests\\test_visible.py\", line 44, in recursive_tree_test\n",
      "    recursive_tree_test(testcase, label, ref[k], hyp[k], codelist+'['+k+']')\n",
      "  File \"d:\\# Courses\\## 大三\\SP23\\CS440\\mp06\\tests\\test_visible.py\", line 44, in recursive_tree_test\n",
      "    recursive_tree_test(testcase, label, ref[k], hyp[k], codelist+'['+k+']')\n",
      "  File \"d:\\# Courses\\## 大三\\SP23\\CS440\\mp06\\tests\\test_visible.py\", line 43, in recursive_tree_test\n",
      "    testcase.assertIn(k, ref, msg)\n",
      "AssertionError: 'd4e3' not found in {'b7b5': {}, 'b7b6': {}, 'd4d3': {}} : alphabeta_game1_depth3 moveTree[a7a5][h2h4] contains d4e3 but, that should have been pruned away.\n",
      "\n",
      "----------------------------------------------------------------------\n",
      "Ran 7 tests in 1040.357s\n",
      "\n",
      "FAILED (failures=3)\n",
      "FFF....\n",
      "======================================================================\n",
      "FAIL: test_alphabeta02 (test_visible.grading_tests)\n",
      "----------------------------------------------------------------------\n",
      "Traceback (most recent call last):\n",
      "  File \"d:\\# Courses\\## 大三\\SP23\\CS440\\mp06\\tests\\test_visible.py\", line 78, in test_alphabeta02\n",
      "    general_test(self, load_game(0), 'alphabeta_game%d_depth%d'%(0,2), submitted.alphabeta, 2)\n",
      "  File \"d:\\# Courses\\## 大三\\SP23\\CS440\\mp06\\tests\\test_visible.py\", line 57, in general_test\n",
      "    testcase.assertEqual(refVal, hypVal, msg)\n",
      "AssertionError: 10.0 != 0 : alphabeta_game0_depth2 should produce value == 10.0 not 0\n",
      "\n",
      "======================================================================\n",
      "FAIL: test_alphabeta12 (test_visible.grading_tests)\n",
      "----------------------------------------------------------------------\n",
      "Traceback (most recent call last):\n",
      "  File \"d:\\# Courses\\## 大三\\SP23\\CS440\\mp06\\tests\\test_visible.py\", line 88, in test_alphabeta12\n",
      "    general_test(self, load_game(1), 'alphabeta_game%d_depth%d'%(1,2), submitted.alphabeta, 2)\n",
      "  File \"d:\\# Courses\\## 大三\\SP23\\CS440\\mp06\\tests\\test_visible.py\", line 57, in general_test\n",
      "    testcase.assertEqual(refVal, hypVal, msg)\n",
      "AssertionError: -22.0 != 0 : alphabeta_game1_depth2 should produce value == -22.0 not 0\n",
      "\n",
      "======================================================================\n",
      "FAIL: test_alphabeta13 (test_visible.grading_tests)\n",
      "----------------------------------------------------------------------\n",
      "Traceback (most recent call last):\n",
      "  File \"d:\\# Courses\\## 大三\\SP23\\CS440\\mp06\\tests\\test_visible.py\", line 91, in test_alphabeta13\n",
      "    general_test(self, load_game(1), 'alphabeta_game%d_depth%d'%(1,3), submitted.alphabeta, 3)\n",
      "  File \"d:\\# Courses\\## 大三\\SP23\\CS440\\mp06\\tests\\test_visible.py\", line 57, in general_test\n",
      "    testcase.assertEqual(refVal, hypVal, msg)\n",
      "AssertionError: -27.5 != 0 : alphabeta_game1_depth3 should produce value == -27.5 not 0\n",
      "\n",
      "----------------------------------------------------------------------\n",
      "Ran 7 tests in 44.357s\n",
      "\n",
      "FAILED (failures=3)\n"
     ]
    }
   ],
   "source": [
    "!python grade.py"
   ]
  },
  {
   "cell_type": "markdown",
   "metadata": {},
   "source": [
    "As you can see, all of the tests raise `NotImplementedError`, because we have not yet implemented the functions `minimax` or `alphabeta` in `submitted.py`. We will do this in the next few sections."
   ]
  },
  {
   "cell_type": "markdown",
   "metadata": {},
   "source": [
    "<a id='section2'></a>"
   ]
  },
  {
   "cell_type": "markdown",
   "metadata": {},
   "source": [
    "## II. the PyChess API"
   ]
  },
  {
   "cell_type": "markdown",
   "metadata": {},
   "source": [
    "The chess-playing interface that we're using is based on [**PyChess**](https://github.com/pychess/pychess).  All the components of PyChess that you need are included in the assignment5.zip file, but if you want to learn more about PyChess, you are welcome to download and install it.  The standard distribution of PyChess includes a game-playing AI using the alphabeta search algorithm.  You are welcome to read their implementation to get hints for how to write your own, but note that we have changed the function signature so that if you simply cut and paste their code into your own, it will not work.\n",
    "\n",
    "You do not need to know how to play chess in order to do this assignment.  You need to know that chess is a game between two players, one with white pieces, one with black pieces.  White goes first.  Players alternate making moves until white wins, black wins, or there is a tie.  You don't need to know anything else about chess to do the assignment, though you may have more fun if you learn just a little (e.g., by playing against the computer).\n",
    "\n",
    "Though you don't need to know anything about chess, you do need to understand a few key concepts, and a few key functions, from the PyChess API.  The most important concepts are:\n",
    "\n",
    "1. **player**.  There are two players: Player 0, and Player 1.\n",
    "Player 0 plays white pieces, Player 1 black. Player 0 goes first.\n",
    "    - **side**. PyChess keeps track of whose turn it is by using a boolean called **side**:\n",
    "    `side==False` if Player 0 should play next.\n",
    "2. **move**.  A move is a 3-list: `move==[fro,to,promote]`.\n",
    "`fro` is a 2-list: `fro==[from_x,from_y]`, where `from_x` and `from_y` are each numbers between 1 and 8, specifying the starting x and y positions.  `to` is also a 2-list: `to==[to_x,to_y]`.\n",
    "`promote` is either `None` or `\"q\"`, where `q` means that you are trying to promote your piece to a queen.\n",
    "3. **board**.  A board is a 2-tuple of lists of pieces: `board==([white_piece0, white_piece1, ...], [black_piece0, black_piece1, ...])`.\n",
    "Each piece is a 3-list: `piece=[x,y,type]`.\n",
    "`x` is the x position of the piece (left-to-right, 1 to 8).\n",
    "`y` is the y  position of the piece (top-to-bottom, 1 to 8).\n",
    "`type` is a letter indicating the type of piece, which can be (`p`=pawn, `r`=rook, `n`=knight, `b`=bishop, `q`=queen, or `k`=king).  \n",
    "\n",
    "To get some better understanding, let's look at the way the board is initialized at the start of the game.  The function `chess.lib.convertMoves` starts with an initialized board, then runs forward through a series of specified moves, and gives us the resulting board.  If the series of specified moves is the empty string, then `chess.lib.convertMoves` gives us the opening board position:\n"
   ]
  },
  {
   "cell_type": "code",
   "execution_count": 4,
   "metadata": {},
   "outputs": [
    {
     "name": "stdout",
     "output_type": "stream",
     "text": [
      "pygame 2.1.3 (SDL 2.0.22, Python 3.9.12)\n",
      "Hello from the pygame community. https://www.pygame.org/contribute.html\n",
      "Should we start with the White player? False\n",
      "\n",
      "The starting board position is:\n",
      "[[[1, 7, 'p'], [2, 7, 'p'], [3, 7, 'p'],\n",
      "  [4, 7, 'p'], [5, 7, 'p'], [6, 7, 'p'],\n",
      "  [7, 7, 'p'], [8, 7, 'p'], [1, 8, 'r'],\n",
      "  [2, 8, 'n'], [3, 8, 'b'], [4, 8, 'q'],\n",
      "  [5, 8, 'k'], [6, 8, 'b'], [7, 8, 'n'],\n",
      "  [8, 8, 'r']],\n",
      " [[1, 2, 'p'], [2, 2, 'p'], [3, 2, 'p'],\n",
      "  [4, 2, 'p'], [5, 2, 'p'], [6, 2, 'p'],\n",
      "  [7, 2, 'p'], [8, 2, 'p'], [1, 1, 'r'],\n",
      "  [2, 1, 'n'], [3, 1, 'b'], [4, 1, 'q'],\n",
      "  [5, 1, 'k'], [6, 1, 'b'], [7, 1, 'n'],\n",
      "  [8, 1, 'r']]]\n"
     ]
    }
   ],
   "source": [
    "import chess.lib.utils, pprint\n",
    "\n",
    "side, board, flags = chess.lib.convertMoves(\"\")\n",
    "\n",
    "print(\"Should we start with the White player?\", side)\n",
    "\n",
    "print(\"\")\n",
    "\n",
    "print(\"The starting board position is:\")\n",
    "\n",
    "pprint.PrettyPrinter(compact=True,width=40).pprint(board)\n"
   ]
  },
  {
   "cell_type": "markdown",
   "metadata": {},
   "source": [
    "### II.A evaluate\n",
    "\n",
    "The function `value=evaluate(board)` returns the heuristic value of the board for the white player (thus, in the textbook's terminology, the white player is Max, the black player is Min).\n",
    "\n",
    "For example, you can find the numerical value of a board by typing:\n",
    "\n",
    "\n"
   ]
  },
  {
   "cell_type": "code",
   "execution_count": 5,
   "metadata": {},
   "outputs": [
    {
     "name": "stdout",
     "output_type": "stream",
     "text": [
      "The value of the default board is 0.0\n",
      "If we eliminate one of black's rooks, the value is  14.0\n",
      "If we eliminate one of white's rooks, the value is  -14.0\n",
      "If the players are each missing a rook, the value is  0.0\n"
     ]
    }
   ],
   "source": [
    "import chess.lib.heuristics\n",
    "\n",
    "# Try the default board\n",
    "value = chess.lib.heuristics.evaluate(board)\n",
    "print(\"The value of the default board is\",value)\n",
    "\n",
    "# Try a board where Black is missing a rook\n",
    "board2 = [ board[0], board[1][:-1] ]\n",
    "value = chess.lib.heuristics.evaluate(board2)\n",
    "print(\"If we eliminate one of black's rooks, the value is \",value)\n",
    "\n",
    "# Try a board where White is missing a rook\n",
    "board3 = [ board[0][:-1], board[1] ]\n",
    "value = chess.lib.heuristics.evaluate(board3)\n",
    "print(\"If we eliminate one of white's rooks, the value is \",value)\n",
    "\n",
    "# Eliminate one piece from each player\n",
    "board4 = [ board[0][:-1], board[1][:-1] ]\n",
    "value = chess.lib.heuristics.evaluate(board4)\n",
    "print(\"If the players are each missing a rook, the value is \",value)\n"
   ]
  },
  {
   "cell_type": "markdown",
   "metadata": {},
   "source": [
    "### II.B encode and decode\n",
    "\n",
    "Lists cannot be used as keys in a dict, therefore, in order to give your `moveTree` to the autograder, you will need some way to encode the moves.  `encoded=encode(*move)` converts a `move` into a string representing its standard chess encoding.  The **decode** function reverses the processing of `encode`.  For example:\n"
   ]
  },
  {
   "cell_type": "code",
   "execution_count": 6,
   "metadata": {},
   "outputs": [
    {
     "name": "stdout",
     "output_type": "stream",
     "text": [
      "The move [7,2]->[7,4] encodes as g7g5\n",
      "The move [5,7]->[5,8] with promotion to queen is encoded as e2e1q\n",
      "The move g7g5 is decoded to [[7, 2], [7, 4], None]\n"
     ]
    }
   ],
   "source": [
    "from chess.lib.utils import encode, decode\n",
    "\n",
    "# This statement evaluates to True\n",
    "move1 = encode([7,2],[7,4],None)\n",
    "print(\"The move [7,2]->[7,4] encodes as\",move1)\n",
    "\n",
    "# This statement also evaluates to True\n",
    "move2=encode([5,7],[5,8],\"q\")\n",
    "print(\"The move [5,7]->[5,8] with promotion to queen is encoded as\",move2)\n",
    "\n",
    "# This statement evaluates to True\n",
    "move3 = decode(\"g7g5\")\n",
    "print(\"The move g7g5 is decoded to\",move3)"
   ]
  },
  {
   "cell_type": "markdown",
   "metadata": {},
   "source": [
    "### II.C generateMoves, convertMoves, makeMove\n",
    "\n",
    "The function **generateMoves** is a [generator](https://docs.python.org/3/glossary.html#term-generator) that generates all moves that are legal on the current board.  The function **convertMoves** generates a starting board.  The function **makeMove**  implements a move, and returns the resulting board (and side and flags).  For example, the following code prints all of the moves that white can legally make, starting from the beginning board:\n",
    "\n"
   ]
  },
  {
   "cell_type": "code",
   "execution_count": 7,
   "metadata": {},
   "outputs": [
    {
     "name": "stdout",
     "output_type": "stream",
     "text": [
      "This move is legal now: [[1, 7], [1, 5], None] ([True, True, True, True], [1, 6])\n",
      "This move is legal now: [[1, 7], [1, 6], None] ([True, True, True, True], None)\n",
      "This move is legal now: [[2, 7], [2, 5], None] ([True, True, True, True], [2, 6])\n",
      "This move is legal now: [[2, 7], [2, 6], None] ([True, True, True, True], None)\n",
      "This move is legal now: [[3, 7], [3, 5], None] ([True, True, True, True], [3, 6])\n",
      "This move is legal now: [[3, 7], [3, 6], None] ([True, True, True, True], None)\n",
      "This move is legal now: [[4, 7], [4, 5], None] ([True, True, True, True], [4, 6])\n",
      "This move is legal now: [[4, 7], [4, 6], None] ([True, True, True, True], None)\n",
      "This move is legal now: [[5, 7], [5, 5], None] ([True, True, True, True], [5, 6])\n",
      "This move is legal now: [[5, 7], [5, 6], None] ([True, True, True, True], None)\n",
      "This move is legal now: [[6, 7], [6, 5], None] ([True, True, True, True], [6, 6])\n",
      "This move is legal now: [[6, 7], [6, 6], None] ([True, True, True, True], None)\n",
      "This move is legal now: [[7, 7], [7, 5], None] ([True, True, True, True], [7, 6])\n",
      "This move is legal now: [[7, 7], [7, 6], None] ([True, True, True, True], None)\n",
      "This move is legal now: [[8, 7], [8, 5], None] ([True, True, True, True], [8, 6])\n",
      "This move is legal now: [[8, 7], [8, 6], None] ([True, True, True, True], None)\n",
      "This move is legal now: [[2, 8], [3, 6], None] ([True, True, True, True], None)\n",
      "This move is legal now: [[2, 8], [1, 6], None] ([True, True, True, True], None)\n",
      "This move is legal now: [[7, 8], [8, 6], None] ([True, True, True, True], None)\n",
      "This move is legal now: [[7, 8], [6, 6], None] ([True, True, True, True], None)\n"
     ]
    }
   ],
   "source": [
    "import submitted, importlib\n",
    "import chess.lib\n",
    "\n",
    "# Create an initial board\n",
    "side, board, flags = chess.lib.convertMoves(\"\")\n",
    "\n",
    "# Iterate over all moves that are legal from the current  board position.  \n",
    "for move in submitted.generateMoves(side,board,flags):\n",
    "    newside, newboard, newflags = chess.lib.makeMove(side, board, move[0], move[1], flags, move[2])\n",
    "    print(\"This move is legal now:\",move, newflags)\n"
   ]
  },
  {
   "cell_type": "markdown",
   "metadata": {},
   "source": [
    "The **flags** and **newflags** variables specify whether or not it has become legal for black to make certain specialized types of moves.  For more information, see `chess/docs.txt`.\n",
    "\n"
   ]
  },
  {
   "cell_type": "markdown",
   "metadata": {},
   "source": [
    "### II.D random\n",
    "\n",
    "In order to help you understand the API, the file `submitted.py` contains a function from which you can copy any useful code.  The function `moveList, moveTree, value  = random(side, board, flags, chooser)` takes  the same input as the functions you  will write, and generates the same type of output, but instead of choosing a smart move, it chooses a move at random.\n",
    "\n",
    "Here, the input parameter `chooser` is set to `chooser=`<a href=\"https://docs.python.org/3/library/random.html#functions-for-sequences\">random.choice</a> during normal game play, but during grading, it will be set to some other function that selects a move in a non-random fashion.  Use this function as if it were equivalent to `random.choice`.\n"
   ]
  },
  {
   "cell_type": "code",
   "execution_count": 8,
   "metadata": {},
   "outputs": [
    {
     "name": "stdout",
     "output_type": "stream",
     "text": [
      "Help on function random in module submitted:\n",
      "\n",
      "random(side, board, flags, chooser)\n",
      "    Return a random move, resulting board, and value of the resulting board.\n",
      "    Return: (value, moveList, boardList)\n",
      "      value (int or float): value of the board after making the chosen move\n",
      "      moveList (list): list with one element, the chosen move\n",
      "      moveTree (dict: encode(*move)->dict): a tree of moves that were evaluated in the search process\n",
      "    Input:\n",
      "      side (boolean): True if player1 (Min) plays next, otherwise False\n",
      "      board (2-tuple of lists): current board layout, used by generateMoves and makeMove\n",
      "      flags (list of flags): list of flags, used by generateMoves and makeMove\n",
      "      chooser: a function similar to random.choice, but during autograding, might not be random.\n",
      "\n"
     ]
    }
   ],
   "source": [
    "import submitted, importlib\n",
    "importlib.reload(submitted)\n",
    "help(submitted.random)"
   ]
  },
  {
   "cell_type": "markdown",
   "metadata": {},
   "source": [
    "<a id='section3'></a>"
   ]
  },
  {
   "cell_type": "markdown",
   "metadata": {},
   "source": [
    "## III. Assignment "
   ]
  },
  {
   "cell_type": "markdown",
   "metadata": {},
   "source": [
    "For this assignment, you will need to write three functions: `minimax` and `alphabeta`.  The content of these functions is described in the sections that follow.\n"
   ]
  },
  {
   "cell_type": "markdown",
   "metadata": {},
   "source": [
    "### III.A minimax search\n",
    "\n",
    "For Part 1 of this assignment, you will implement minimax search. Specifically, you will implement a function `minimax(side, board, flags, depth)` in `search.py` with the following docstring:\n"
   ]
  },
  {
   "cell_type": "code",
   "execution_count": 9,
   "metadata": {},
   "outputs": [
    {
     "name": "stdout",
     "output_type": "stream",
     "text": [
      "Help on function minimax in module submitted:\n",
      "\n",
      "minimax(side, board, flags, depth)\n",
      "    Return a minimax-optimal move sequence, tree of all boards evaluated, and value of best path.\n",
      "    Return: (value, moveList, moveTree)\n",
      "      value (float): value of the final board in the minimax-optimal move sequence\n",
      "      moveList (list): the minimax-optimal move sequence, as a list of moves\n",
      "      moveTree (dict: encode(*move)->dict): a tree of moves that were evaluated in the search process\n",
      "    Input:\n",
      "      side (boolean): True if player1 (Min) plays next, otherwise False\n",
      "      board (2-tuple of lists): current board layout, used by generateMoves and makeMove\n",
      "      flags (list of flags): list of flags, used by generateMoves and makeMove\n",
      "      depth (int >=0): depth of the search (number of moves)\n",
      "\n"
     ]
    }
   ],
   "source": [
    "importlib.reload(submitted)\n",
    "help(submitted.minimax)"
   ]
  },
  {
   "cell_type": "markdown",
   "metadata": {},
   "source": [
    "As you  can see, the function accepts `side`, `board`, and `flags` variables, and a non-negative integer, `depth`.  It should perform minimax search over all possible move sequences of length `depth`, and return the complete tree of evaluated moves as `moveTree`.  If `side==True`, you should choose a path through this tree that minimizes the heuristic value of the final board, knowing that your opponent will be trying to maximize value; conversely if `side==False`.  Return the resulting optimal list of moves (including moves by both white and black) as `moveList`, and the numerical value of the final board as `value`.\n",
    "\n",
    "A note about `depth`: The `depth` parameter specifies the total number of moves, including moves by both white and black.  If `depth==1` and `side==False`, then you should just find one move, from the current board, that maximizes the value of the resulting board.  If `depth==2` and `side==False`, then you should find a white move, and the immediate following black move.  If `depth==3` and `side==False`, then you should find a white, black, white sequence of moves.  For example, see [wikipedia's page on minimax](https://en.wikipedia.org/wiki/Minimax#Minimax_algorithm_with_alternate_moves) for examples and pseudo-code.\n",
    "\n",
    "You are strongly encouraged to look at the grading examples in the `grading_examples` folder, to get a better understanding of what the `minimax` function outputs should look like.  For example, the board game in `more grading_examples/minimax_game0_depth2.json` contains `value` on the first line, `moveList` on the second line, and `moveTree` on the third line:\n"
   ]
  },
  {
   "cell_type": "code",
   "execution_count": 10,
   "metadata": {},
   "outputs": [
    {
     "name": "stdout",
     "output_type": "stream",
     "text": [
      "value is 10.0 \n",
      "\n",
      "moveList is [[[2, 1], [3, 3], None], [[4, 7], [4, 5], None]] \n",
      "\n",
      "moveTree is: {'a7a5': {'a2a4': {}, 'a2a3': {}, 'b2b4': {}, 'b2b3': {}, 'd2d4': {}, 'd2d3': {}, 'e2e4': {}, 'e2e3': {}, 'g2g4': {}, 'g2g3': {}, 'h2h4': {}, 'h2h3': {}, 'a1b1': {}, 'c3d5': {}, 'c3b1': {}, 'c3b5': {}, 'c3e4': {}, 'c3a4': {}, 'f3g1': {}, 'f3g5': {}, 'f3e5': {}, 'f3h4': {}, 'f3d4': {}, 'h1g1': {}}, 'a7a6': {'a2a4': {}, 'a2a3': {}, 'b2b4': {}, 'b2b3': {}, 'd2d4': {}, 'd2d3': {}, 'e2e4': {}, 'e2e3': {}, 'g2g4': {}, 'g2g3': {}, 'h2h4': {}, 'h2h3': {}, 'a1b1': {}, 'c3d5': {}, 'c3b1': {}, 'c3b5': {}, 'c3e4': {}, 'c3a4': {}, 'f3g1': {}, 'f3g5': {}, 'f3e5': {}, 'f3h4': {}, 'f3d4': {}, 'h1g1': {}}, 'b7b5': {'a2a4': {}, 'a2a3': {}, 'b2b4': {}, 'b2b3': {}, 'd2d4': {}, 'd2d3': {}, 'e2e4': {}, 'e2e3': {}, 'g2g4': {}, 'g2g3': {}, 'h2h4': {}, 'h2h3': {}, 'a1b1': {}, 'c3d5': {}, 'c3b1': {}, 'c3b5': {}, 'c3e4': {}, 'c3a4': {}, 'f3g1': {}, 'f3g5': {}, 'f3e5': {}, 'f3h4': {}, 'f3d4': {}, 'h1g1': {}}, 'b7b6': {'a2a4': {}, 'a2a3': {}, 'b2b4': {}, 'b2b3': {}, 'd2d4': {}, 'd2d3': {}, 'e2e4': {}, 'e2e3': {}, 'g2g4': {}, 'g2g3': {}, 'h2h4': {}, 'h2h3': {}, 'a1b1': {}, 'c3d5': {}, 'c3b1': {}, 'c3b5': {}, 'c3e4': {}, 'c3a4': {}, 'f3g1': {}, 'f3g5': {}, 'f3e5': {}, 'f3h4': {}, 'f3d4': {}, 'h1g1': {}}, 'c7c5': {'a2a4': {}, 'a2a3': {}, 'b2b4': {}, 'b2b3': {}, 'd2d4': {}, 'd2d3': {}, 'e2e4': {}, 'e2e3': {}, 'g2g4': {}, 'g2g3': {}, 'h2h4': {}, 'h2h3': {}, 'a1b1': {}, 'c3d5': {}, 'c3b1': {}, 'c3b5': {}, 'c3e4': {}, 'c3a4': {}, 'f3g1': {}, 'f3g5': {}, 'f3e5': {}, 'f3h4': {}, 'f3d4': {}, 'h1g1': {}}, 'c7c6': {'a2a4': {}, 'a2a3': {}, 'b2b4': {}, 'b2b3': {}, 'd2d4': {}, 'd2d3': {}, 'e2e4': {}, 'e2e3': {}, 'g2g4': {}, 'g2g3': {}, 'h2h4': {}, 'h2h3': {}, 'a1b1': {}, 'c3d5': {}, 'c3b1': {}, 'c3b5': {}, 'c3e4': {}, 'c3a4': {}, 'f3g1': {}, 'f3g5': {}, 'f3e5': {}, 'f3h4': {}, 'f3d4': {}, 'h1g1': {}}, 'd7d5': {'a2a4': {}, 'a2a3': {}, 'b2b4': {}, 'b2b3': {}, 'd2d4': {}, 'd2d3': {}, 'e2e4': {}, 'e2e3': {}, 'g2g4': {}, 'g2g3': {}, 'h2h4': {}, 'h2h3': {}, 'a1b1': {}, 'c3d5': {}, 'c3b1': {}, 'c3b5': {}, 'c3e4': {}, 'c3a4': {}, 'f3g1': {}, 'f3g5': {}, 'f3e5': {}, 'f3h4': {}, 'f3d4': {}, 'h1g1': {}}, 'd7d6': {'a2a4': {}, 'a2a3': {}, 'b2b4': {}, 'b2b3': {}, 'd2d4': {}, 'd2d3': {}, 'e2e4': {}, 'e2e3': {}, 'g2g4': {}, 'g2g3': {}, 'h2h4': {}, 'h2h3': {}, 'a1b1': {}, 'c3d5': {}, 'c3b1': {}, 'c3b5': {}, 'c3e4': {}, 'c3a4': {}, 'f3g1': {}, 'f3g5': {}, 'f3e5': {}, 'f3h4': {}, 'f3d4': {}, 'h1g1': {}}, 'e7e5': {'a2a4': {}, 'a2a3': {}, 'b2b4': {}, 'b2b3': {}, 'd2d4': {}, 'd2d3': {}, 'e2e4': {}, 'e2e3': {}, 'g2g4': {}, 'g2g3': {}, 'h2h4': {}, 'h2h3': {}, 'a1b1': {}, 'c3d5': {}, 'c3b1': {}, 'c3b5': {}, 'c3e4': {}, 'c3a4': {}, 'f3g1': {}, 'f3g5': {}, 'f3e5': {}, 'f3h4': {}, 'f3d4': {}, 'h1g1': {}}, 'e7e6': {'a2a4': {}, 'a2a3': {}, 'b2b4': {}, 'b2b3': {}, 'd2d4': {}, 'd2d3': {}, 'e2e4': {}, 'e2e3': {}, 'g2g4': {}, 'g2g3': {}, 'h2h4': {}, 'h2h3': {}, 'a1b1': {}, 'c3d5': {}, 'c3b1': {}, 'c3b5': {}, 'c3e4': {}, 'c3a4': {}, 'f3g1': {}, 'f3g5': {}, 'f3e5': {}, 'f3h4': {}, 'f3d4': {}, 'h1g1': {}}, 'f7f5': {'a2a4': {}, 'a2a3': {}, 'b2b4': {}, 'b2b3': {}, 'd2d4': {}, 'd2d3': {}, 'e2e4': {}, 'e2e3': {}, 'g2g4': {}, 'g2g3': {}, 'h2h4': {}, 'h2h3': {}, 'a1b1': {}, 'c3d5': {}, 'c3b1': {}, 'c3b5': {}, 'c3e4': {}, 'c3a4': {}, 'f3g1': {}, 'f3g5': {}, 'f3e5': {}, 'f3h4': {}, 'f3d4': {}, 'h1g1': {}}, 'f7f6': {'a2a4': {}, 'a2a3': {}, 'b2b4': {}, 'b2b3': {}, 'd2d4': {}, 'd2d3': {}, 'e2e4': {}, 'e2e3': {}, 'g2g4': {}, 'g2g3': {}, 'h2h4': {}, 'h2h3': {}, 'a1b1': {}, 'c3d5': {}, 'c3b1': {}, 'c3b5': {}, 'c3e4': {}, 'c3a4': {}, 'f3g1': {}, 'f3g5': {}, 'f3e5': {}, 'f3h4': {}, 'f3d4': {}, 'h1g1': {}}, 'g5g4': {'a2a4': {}, 'a2a3': {}, 'b2b4': {}, 'b2b3': {}, 'd2d4': {}, 'd2d3': {}, 'e2e4': {}, 'e2e3': {}, 'g2g3': {}, 'h2h4': {}, 'h2h3': {}, 'a1b1': {}, 'c3d5': {}, 'c3b1': {}, 'c3b5': {}, 'c3e4': {}, 'c3a4': {}, 'f3g1': {}, 'f3g5': {}, 'f3e5': {}, 'f3h4': {}, 'f3d4': {}, 'h1g1': {}}, 'h7h5': {'a2a4': {}, 'a2a3': {}, 'b2b4': {}, 'b2b3': {}, 'd2d4': {}, 'd2d3': {}, 'e2e4': {}, 'e2e3': {}, 'g2g4': {}, 'g2g3': {}, 'h2h4': {}, 'h2h3': {}, 'a1b1': {}, 'c3d5': {}, 'c3b1': {}, 'c3b5': {}, 'c3e4': {}, 'c3a4': {}, 'f3g1': {}, 'f3g5': {}, 'f3e5': {}, 'f3h4': {}, 'f3d4': {}, 'h1g1': {}}, 'h7h6': {'a2a4': {}, 'a2a3': {}, 'b2b4': {}, 'b2b3': {}, 'd2d4': {}, 'd2d3': {}, 'e2e4': {}, 'e2e3': {}, 'g2g4': {}, 'g2g3': {}, 'h2h4': {}, 'h2h3': {}, 'a1b1': {}, 'c3d5': {}, 'c3b1': {}, 'c3b5': {}, 'c3e4': {}, 'c3a4': {}, 'f3g1': {}, 'f3g5': {}, 'f3e5': {}, 'f3h4': {}, 'f3d4': {}, 'h1g1': {}}, 'b8c6': {'a2a4': {}, 'a2a3': {}, 'b2b4': {}, 'b2b3': {}, 'd2d4': {}, 'd2d3': {}, 'e2e4': {}, 'e2e3': {}, 'g2g4': {}, 'g2g3': {}, 'h2h4': {}, 'h2h3': {}, 'a1b1': {}, 'c3d5': {}, 'c3b1': {}, 'c3b5': {}, 'c3e4': {}, 'c3a4': {}, 'f3g1': {}, 'f3g5': {}, 'f3e5': {}, 'f3h4': {}, 'f3d4': {}, 'h1g1': {}}, 'b8a6': {'a2a4': {}, 'a2a3': {}, 'b2b4': {}, 'b2b3': {}, 'd2d4': {}, 'd2d3': {}, 'e2e4': {}, 'e2e3': {}, 'g2g4': {}, 'g2g3': {}, 'h2h4': {}, 'h2h3': {}, 'a1b1': {}, 'c3d5': {}, 'c3b1': {}, 'c3b5': {}, 'c3e4': {}, 'c3a4': {}, 'f3g1': {}, 'f3g5': {}, 'f3e5': {}, 'f3h4': {}, 'f3d4': {}, 'h1g1': {}}, 'f8g7': {'a2a4': {}, 'a2a3': {}, 'b2b4': {}, 'b2b3': {}, 'd2d4': {}, 'd2d3': {}, 'e2e4': {}, 'e2e3': {}, 'g2g4': {}, 'g2g3': {}, 'h2h4': {}, 'h2h3': {}, 'a1b1': {}, 'c3d5': {}, 'c3b1': {}, 'c3b5': {}, 'c3e4': {}, 'c3a4': {}, 'f3g1': {}, 'f3g5': {}, 'f3e5': {}, 'f3h4': {}, 'f3d4': {}, 'h1g1': {}}, 'f8h6': {'a2a4': {}, 'a2a3': {}, 'b2b4': {}, 'b2b3': {}, 'd2d4': {}, 'd2d3': {}, 'e2e4': {}, 'e2e3': {}, 'g2g4': {}, 'g2g3': {}, 'h2h4': {}, 'h2h3': {}, 'a1b1': {}, 'c3d5': {}, 'c3b1': {}, 'c3b5': {}, 'c3e4': {}, 'c3a4': {}, 'f3g1': {}, 'f3g5': {}, 'f3e5': {}, 'f3h4': {}, 'f3d4': {}, 'h1g1': {}}, 'g8h6': {'a2a4': {}, 'a2a3': {}, 'b2b4': {}, 'b2b3': {}, 'd2d4': {}, 'd2d3': {}, 'e2e4': {}, 'e2e3': {}, 'g2g4': {}, 'g2g3': {}, 'h2h4': {}, 'h2h3': {}, 'a1b1': {}, 'c3d5': {}, 'c3b1': {}, 'c3b5': {}, 'c3e4': {}, 'c3a4': {}, 'f3g1': {}, 'f3g5': {}, 'f3e5': {}, 'f3h4': {}, 'f3d4': {}, 'h1g1': {}}, 'g8f6': {'a2a4': {}, 'a2a3': {}, 'b2b4': {}, 'b2b3': {}, 'd2d4': {}, 'd2d3': {}, 'e2e4': {}, 'e2e3': {}, 'g2g4': {}, 'g2g3': {}, 'h2h4': {}, 'h2h3': {}, 'a1b1': {}, 'c3d5': {}, 'c3b1': {}, 'c3b5': {}, 'c3e4': {}, 'c3a4': {}, 'f3g1': {}, 'f3g5': {}, 'f3e5': {}, 'f3h4': {}, 'f3d4': {}, 'h1g1': {}}} \n",
      "\n"
     ]
    }
   ],
   "source": [
    "import json, pprint\n",
    "with open(\"grading_examples/minimax_game0_depth2.json\",\"r\") as f:\n",
    "    value=json.loads(f.readline())\n",
    "    print(\"value is\",value,\"\\n\")\n",
    "    moveList=json.loads(f.readline())\n",
    "    print(\"moveList is\",moveList,\"\\n\")\n",
    "    moveTree=json.loads(f.readline())\n",
    "    print(\"moveTree is:\",moveTree,\"\\n\")\n"
   ]
  },
  {
   "cell_type": "markdown",
   "metadata": {},
   "source": [
    "You will certainly want to implement `minimax` as a recursive function.  You will certainly want to use the function `generateMoves` to generate all moves that are legal in the current game state, and you will certainly want to use `makeMove` to find the newside, newboard, and newflags that result from making each move.  When you  get to `depth==0`, you will certainly want to use `evaluate(board)` in order to compute the heuristic value of the resulting board.\n",
    "\n",
    "Once  you  have implemented minimax, you can test it by playing against it.  If you have pygame installed, the following line should pop up a board on which you can play against your own minimax player.  If you have not yet written `minimax`, the game will throw a `NotImplementedError` when it is white's turn to move.\n"
   ]
  },
  {
   "cell_type": "code",
   "execution_count": 11,
   "metadata": {},
   "outputs": [
    {
     "name": "stdout",
     "output_type": "stream",
     "text": [
      "^C\n"
     ]
    },
    {
     "name": "stdout",
     "output_type": "stream",
     "text": [
      "pygame 2.1.3 (SDL 2.0.22, Python 3.9.12)\n",
      "Hello from the pygame community. https://www.pygame.org/contribute.html\n"
     ]
    }
   ],
   "source": [
    "!python main.py --player1 minimax"
   ]
  },
  {
   "cell_type": "markdown",
   "metadata": {},
   "source": [
    "Test that it is working correctly by moving one of your knights forward.  The computer should respond by moving one of its knights foward, as shown here:\n",
    "\n",
    "<p align=\"center\">\n",
    "    <img width=\"400\" src=\"images/assignment5_figure1.png\"/> \n",
    "</p>\n",
    "\n",
    "If you want to watch a minimax agent win against a random-move agent, you can type\n"
   ]
  },
  {
   "cell_type": "code",
   "execution_count": null,
   "metadata": {},
   "outputs": [
    {
     "name": "stdout",
     "output_type": "stream",
     "text": [
      "pygame 2.0.1 (SDL 2.0.14, Python 3.8.5)\n",
      "Hello from the pygame community. https://www.pygame.org/contribute.html\n",
      "Traceback (most recent call last):\n",
      "  File \"main.py\", line 182, in <module>\n",
      "    application.run()\n",
      "  File \"main.py\", line 102, in run\n",
      "    value, moveList, moveTree = submitted.minimax(\n",
      "  File \"/Users/jhasegaw/Dropbox/mark/teaching/ece448/ece448labs/spring23/mp05/src/submitted.py\", line 59, in minimax\n",
      "    raise NotImplementedError(\"you need to write this!\")\n",
      "NotImplementedError: you need to write this!\n"
     ]
    }
   ],
   "source": [
    "!python main.py --player0 minimax --player1 random\n"
   ]
  },
  {
   "cell_type": "markdown",
   "metadata": {},
   "source": [
    "### III.B alphabeta search\n",
    "\n",
    "For Part 2 of this assignment, you will implement alphabeta search. Specifically, you will implement a function `alphabeta(side, board, flags, depth)` in `search.py` with the following docstring:\n",
    "\n"
   ]
  },
  {
   "cell_type": "code",
   "execution_count": null,
   "metadata": {},
   "outputs": [
    {
     "name": "stdout",
     "output_type": "stream",
     "text": [
      "Help on function alphabeta in module submitted:\n",
      "\n",
      "alphabeta(side, board, flags, depth, alpha=-inf, beta=inf)\n",
      "    Return minimax-optimal move sequence, and a tree that exhibits alphabeta pruning.\n",
      "    Return: (value, moveList, moveTree)\n",
      "      value (float): value of the final board in the minimax-optimal move sequence\n",
      "      moveList (list): the minimax-optimal move sequence, as a list of moves\n",
      "      moveTree (dict: encode(*move)->dict): a tree of moves that were evaluated in the search process\n",
      "    Input:\n",
      "      side (boolean): True if player1 (Min) plays next, otherwise False\n",
      "      board (2-tuple of lists): current board layout, used by generateMoves and makeMove\n",
      "      flags (list of flags): list of flags, used by generateMoves and makeMove\n",
      "      depth (int >=0): depth of the search (number of moves)\n",
      "\n"
     ]
    }
   ],
   "source": [
    "import submitted\n",
    "help(submitted.alphabeta)"
   ]
  },
  {
   "cell_type": "markdown",
   "metadata": {},
   "source": [
    "For any given input board, this function should return exactly the same value and moveList as `minimax`; the only difference between the two functions will be the returned `moveTree`.  The tree returned by `alphabeta` should have fewer leaf nodes than the one returned by `minimax`, because alphabeta pruning should make it unnecessary to evaluate some of the leaf nodes.\n",
    "\n",
    "You can test this using:\n"
   ]
  },
  {
   "cell_type": "code",
   "execution_count": null,
   "metadata": {},
   "outputs": [
    {
     "name": "stdout",
     "output_type": "stream",
     "text": [
      "pygame 2.0.1 (SDL 2.0.14, Python 3.8.5)\n",
      "Hello from the pygame community. https://www.pygame.org/contribute.html\n",
      "Traceback (most recent call last):\n",
      "  File \"main.py\", line 182, in <module>\n",
      "    application.run()\n",
      "  File \"main.py\", line 108, in run\n",
      "    value, moveList, moveTree = submitted.alphabeta(\n",
      "  File \"/Users/jhasegaw/Dropbox/mark/teaching/ece448/ece448labs/spring23/mp05/src/submitted.py\", line 74, in alphabeta\n",
      "    raise NotImplementedError(\"you need to write this!\")\n",
      "NotImplementedError: you need to write this!\n"
     ]
    }
   ],
   "source": [
    "!python main.py --player0 random --player1 alphabeta\n"
   ]
  },
  {
   "cell_type": "markdown",
   "metadata": {},
   "source": [
    "<a id='section4'></a>"
   ]
  },
  {
   "cell_type": "markdown",
   "metadata": {},
   "source": [
    "## IV. Extra Credit\n",
    "\n",
    "The heuristic we've been using, until now, is the default PyChess heuristic: it assigns a value to each piece, with extra points added or subtracted depending on the piece's location. For extra credit, if you wish, you can try to train a neural network to compute a better heuristic.\n",
    "\n"
   ]
  },
  {
   "cell_type": "markdown",
   "metadata": {},
   "source": [
    "### IV.A. The Game\n",
    "\n",
    "The extra credit assignment will be graded based on how  often  your heuristic beats the default PhChess heuristic in a two-player game.\n",
    "\n",
    "Ideally, the game would be chess.  Unfortunately, grading your heuristic based on complete chess games would take too much time.  Instead, the function `extracredit_grade.py` plays a very simple game:\n",
    "\n",
    "1. Each of the two players is given the same chess board.  Each of you assigns a numerical value to the board.\n",
    "2. Then, the scoring program finds the depth-two minimax value of the same board.  This value is provided in the lists called \"values\" in the data files `extracredit_train.txt` and `extracredit_validation.txt`; but if you have already completed the main assignment, it should be the same value that you'd get by running your  `minimax` or `alphabeta` search with `depth=2`.\n",
    "3. The winner of the game is the player whose computed value is closest to the reference value.\n",
    "\n",
    "Notice that what we're asking you to do, basically, is to create a neural network that can guess the value of the PyChess heuristic two steps ahead.\n",
    "\n",
    "Notice that, if you can design a funny neural net architecture that, instead of being trained to solve this problem, solves it without training by exactly computing a two-step minimax operation, then  you're done.  This is explicitly allowed, because we think it would be a very effective and very interesting solution.\n",
    "\n",
    "Most of you, we guess, will choose a more general neural net architecture, and train it so that it imitates the results of two-step minimax.\n",
    "\n"
   ]
  },
  {
   "cell_type": "markdown",
   "metadata": {},
   "source": [
    "### IV.B. Distributed Code: Exactly Reproduce the PyChess Heuristic\n",
    "\n",
    "Dowload the [extra credit package](mp06_extracredit.zip), and unpack it.   You will find the following files:\n",
    "- extracredit.py: Trains the model.  This is the code you will edit and submit.\n",
    "- extracredit_embedding.py: Embeds a chess board into a (15x8x8) binary pytorch tensor.\n",
    "- extracredit_train.txt: Training data: sequences of moves, and corresponding values.\n",
    "- extracredit_validation.txt: Validation data: sequences of moves, and corresponding values.\n",
    "- extracredit_grade.py: The grading script.\n",
    "\n",
    "Try the following:\n"
   ]
  },
  {
   "cell_type": "code",
   "execution_count": null,
   "metadata": {},
   "outputs": [
    {
     "name": "stdout",
     "output_type": "stream",
     "text": [
      "pygame 2.0.1 (SDL 2.0.14, Python 3.8.5)\n",
      "Hello from the pygame community. https://www.pygame.org/contribute.html\n",
      "/Users/jhasegaw/Dropbox/mark/teaching/ece448/ece448labs/spring23/mp05/src/extracredit_embedding.py:107: UserWarning: Creating a tensor from a list of numpy.ndarrays is extremely slow. Please consider converting the list to a single numpy.ndarray with numpy.array() before converting to a tensor. (Triggered internally at  ../torch/csrc/utils/tensor_new.cpp:201.)\n",
      "  self.embeddings = torch.tensor(embeddings,dtype=DTYPE,device=DEVICE)\n"
     ]
    }
   ],
   "source": [
    "!python extracredit.py\n"
   ]
  },
  {
   "cell_type": "markdown",
   "metadata": {},
   "source": [
    "What just happened?  Well, if you open `extracredit.py`  you will find these lines:\n",
    "\n",
    "```python\n",
    "    # Well, you might want to create a model a little better than this...\n",
    "    model = torch.nn.Sequential(torch.nn.Flatten(),torch.nn.Linear(in_features=8*8*15, out_features=1))\n",
    "\n",
    "    # ... and if you do, this initialization might not be relevant any more ...\n",
    "    model[1].weight.data = initialize_weights()\n",
    "    model[1].bias.data = torch.zeros(1)\n",
    "\n",
    "    # ... and you might want to put some code here to train your model:\n",
    "    trainset = ChessDataset(filename='extracredit_train.txt')\n",
    "    trainloader = torch.utils.data.DataLoader(trainset, batch_size=1000, shuffle=True)\n",
    "    for epoch in range(2000):\n",
    "        for x,y in trainloader:\n",
    "            pass # Replace this line with some code that actually does the training\n",
    "\n",
    "    # ... after which, you should save it as \"model.pkl\":\n",
    "    torch.save(model, 'model.pkl')\n",
    "```\n",
    "\n",
    "The `torch.nn.Sequential` line has flattened the input board embedding, and then multiplied it by a matrix.  The function `initialize_weights()` initializes that matrix to be exactly equal to the weights used in the PyChess linear heuristic.  If you look closely at the training part of the code, you will see that it has done nothing at all; this part of the code is only here to show you how the ChessDataset and DataLoader can be used.  After the `pass`, you see that the model, initialized but not trained, has been saved to `model.pkl`.\n"
   ]
  },
  {
   "cell_type": "markdown",
   "metadata": {},
   "source": [
    "### IV.C. Leaderboard\n",
    "\n",
    "Now that you've saved `model.pkl`, you can score it using `extracredit_grade.py`:\n",
    "\n"
   ]
  },
  {
   "cell_type": "code",
   "execution_count": null,
   "metadata": {},
   "outputs": [
    {
     "name": "stdout",
     "output_type": "stream",
     "text": [
      "/Users/jhasegaw/Dropbox/mark/teaching/ece448/ece448labs/spring23/mp05/src/extracredit_embedding.py:107: UserWarning: Creating a tensor from a list of numpy.ndarrays is extremely slow. Please consider converting the list to a single numpy.ndarray with numpy.array() before converting to a tensor. (Triggered internally at  ../torch/csrc/utils/tensor_new.cpp:201.)\n",
      "  self.embeddings = torch.tensor(embeddings,dtype=DTYPE,device=DEVICE)\n",
      "{\n",
      "  \"tests\": [\n",
      "    {\n",
      "      \"name\": \"train_winratio_or_eval_winratio_gt_0.5\",\n",
      "      \"score\": 0,\n",
      "      \"max_score\": 10\n",
      "    }\n",
      "  ],\n",
      "  \"visibility\": \"visible\",\n",
      "  \"execution_time\": 1.0036852359771729,\n",
      "  \"score\": 0,\n",
      "  \"leaderboard\": [\n",
      "    {\n",
      "      \"name\": \"winratio_evaluation\",\n",
      "      \"value\": 0.5\n",
      "    },\n",
      "    {\n",
      "      \"name\": \"winratio_validation\",\n",
      "      \"value\": 0.5\n",
      "    },\n",
      "    {\n",
      "      \"name\": \"winratio_train\",\n",
      "      \"value\": 0.5\n",
      "    },\n",
      "    {\n",
      "      \"name\": \"Time\",\n",
      "      \"value\": 1.0036852359771729\n",
      "    }\n",
      "  ]\n",
      "}\n"
     ]
    }
   ],
   "source": [
    "!python extracredit_grade.py\n"
   ]
  },
  {
   "cell_type": "markdown",
   "metadata": {},
   "source": [
    "The `leaderboard` section shows three separate scores:\n",
    "\n",
    "- `winratio_train` is the fraction, of the 1000 boards in `extracredit_train.txt`, in which your neural net beat the PyChess heuristic.  Notice that it's currently 0.5; that's because the untrained model is exactly equal to the PyChess heuristic, so that they tied (and each received 0.5 points) on all of the 1000 games.\n",
    "- `winratio_development` is the same thing, but for the boards in `extracredit_validation.txt`.\n",
    "- `winratio_evaluation` is the same thing, but for the boards in `extracredit_evaluation.txt`.  Since you don't have that file, your score is set to 0.  In order to see your actual score for this file, you'll need to submit your `extracredit.py`  to the autograder.\n",
    "\n"
   ]
  },
  {
   "cell_type": "markdown",
   "metadata": {},
   "source": [
    "### IV.D. Extra Credit Grade\n",
    "\n",
    "Your extra credit grade is given by the variable `score` in the output from `extracredit_grade.py`.  It is calculated as\n",
    "\n",
    "```python\n",
    "    score = 10*min(1, sum([ max(0, min(1, 4*(winratio[x]-0.5))) for x in ['train','evaluation'] ]))\n",
    "```\n",
    "\n",
    "In other words, you get all 10 of the available points if your win ratio is better than 0.75 on either the training set (available to you) or the evaluation set (hidden).  Notice: this means that you can get full credit if you get a  win  ratio better than 75% on the training data, even if you get a really bad win ratio on the evaluation data.\n",
    "\n"
   ]
  },
  {
   "cell_type": "markdown",
   "metadata": {},
   "source": [
    "### IV.E. Submission Instructions\n",
    "\n",
    "Your file `extracredit.py` must create a pytorch `torch.nn.Module` object, and then save it in a file called `model.pkl`.\n",
    "\n",
    "Pre-trained models (of any interestingly large size) cannot be uploaded to Gradescope, so your model will have to be created, trained, and saved by the file `extracredit.py`.\n",
    "\n",
    "You are strongly encouraged to load `extracredit_train.txt` and/or `extracredit_validation.txt` in your `extracredit.py`  function.\n",
    "\n",
    "In order to allow you to train interesting neural nets, we've set up Gradescope to allow you up to 40 minutes of CPU time (on one CPU).  It is possible to get full points for this extra  credit assignment in three or four minutes of training, but some of you may want to experiment with bigger models.\n",
    "\n",
    "#### Warning: Hard to beat alpha-beta!\n",
    "\n",
    "The extra credit thresholds are set so that you can get all of the points if you do well enough on the training data, even if your result is massively overtrained and doesn't generalize well to validation or evaluation data.  That's because it's actually really hard to find a neural model that beats alpha-beta by any significant margin.  <a href=\"https://en.wikipedia.org/wiki/Deep_Blue_(chess_computer)\">Deep Blue</a> did not use a neural network explicitly, though it had a number of parameters in its evaluation function that were trained using machine-learning-like techniques.\n",
    "\n"
   ]
  },
  {
   "cell_type": "markdown",
   "metadata": {},
   "source": [
    "<a id='grade'></a>"
   ]
  },
  {
   "cell_type": "markdown",
   "metadata": {},
   "source": [
    "## V. Grade your homework"
   ]
  },
  {
   "cell_type": "markdown",
   "metadata": {},
   "source": [
    "Submit the main part of this assignment by uploading `submitted.py` to Gradescope. You can upload other files with it, but only `submitted.py` will be retained by the autograder. \n",
    "\n",
    "Submit the extra credit part of this assignment by uploading `extracredit.py` to Gradescope. You can upload other files with it, but only `extracredit.py` will be retained by the autograder. "
   ]
  },
  {
   "cell_type": "code",
   "execution_count": null,
   "metadata": {},
   "outputs": [],
   "source": []
  }
 ],
 "metadata": {
  "kernelspec": {
   "display_name": "Python 3 (ipykernel)",
   "language": "python",
   "name": "python3"
  },
  "language_info": {
   "codemirror_mode": {
    "name": "ipython",
    "version": 3
   },
   "file_extension": ".py",
   "mimetype": "text/x-python",
   "name": "python",
   "nbconvert_exporter": "python",
   "pygments_lexer": "ipython3",
   "version": "3.9.12"
  },
  "vscode": {
   "interpreter": {
    "hash": "ad2bdc8ecc057115af97d19610ffacc2b4e99fae6737bb82f5d7fb13d2f2c186"
   }
  }
 },
 "nbformat": 4,
 "nbformat_minor": 4
}
