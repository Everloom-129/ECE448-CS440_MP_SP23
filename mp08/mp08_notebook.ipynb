{
 "cells": [
  {
   "cell_type": "markdown",
   "metadata": {},
   "source": [
    "# CS440/ECE448 Spring 2023\n",
    "# MP08: Hidden Markov Model"
   ]
  },
  {
   "cell_type": "markdown",
   "metadata": {},
   "source": [
    "The first thing you need to do is to download this file: <a href=\"mp08.zip\">mp08.zip</a>.  It has the following content:\n",
    "\n",
    "* `submitted.py`: Your homework. Edit, and then submit to <a href=\"https://www.gradescope.com/courses/486387\">Gradescope</a>.\n",
    "* `mp08_notebook.ipynb`: This is a <a href=\"https://anaconda.org/anaconda/jupyter\">Jupyter</a> notebook to help you debug.  You can completely ignore it if you want, although you might find that it gives you useful instructions.\n",
    "* `grade.py`: Once your homework seems to be working, you can test it by typing `python grade.py`, which will run the tests in `tests/tests_visible.py`.\n",
    "* `tests/test_visible.py`: This file contains about half of the <a href=\"https://docs.python.org/3/library/unittest.html\">unit tests</a> that Gradescope will run in order to grade your homework.  If you can get a perfect score on these tests, then you should also get a perfect score on the additional hidden tests that Gradescope uses.\n",
    "* `data`: This directory contains the data.\n",
    "* `util.py`: This is an auxiliary program that you can use to read the data, evaluate the accuracy, etc."
   ]
  },
  {
   "cell_type": "markdown",
   "metadata": {},
   "source": [
    "This file (`mp08_notebook.ipynb`) will walk you through the whole MP, giving you instructions and debugging tips as you go.\n",
    "\n",
    "### Table of Contents\n",
    "\n",
    "1. <a href=\"#section1\">Reading the data</a>\n",
    "1. <a href=\"#section2\">Tagset</a>\n",
    "1. <a href=\"#section3\">Taggers</a>\n",
    "1. <a href=\"#section4\">Baseline Tagger</a>\n",
    "1. <a href=\"#section5\">Viterbi: HMM Tagger</a>\n",
    "1. <a href=\"#section6\">Viterbi\\_ec: Improveing HMM Tagger</a>\n",
    "1. <a href=\"#grade\">Grade Your Homework</a>\n"
   ]
  },
  {
   "cell_type": "markdown",
   "metadata": {},
   "source": [
    "For this MP, you will implement part of speech (POS) tagging\n",
    "using an HMM model.    Make sure you understand the algorithm\n",
    "before you start writing code, e.g. look at the\n",
    "lectures on Hidden Markov Models and\n",
    "<a href=\"https://web.stanford.edu/~jurafsky/slp3/8.pdf\">\n",
    "Chapter 8 </a> of Jurafsky and Martin.\n"
   ]
  },
  {
   "cell_type": "markdown",
   "metadata": {},
   "source": [
    "<a id='section1'></a>\n",
    "## Reading the data\n",
    "The dataset consists of thousands of sentences with ground-truth POS tags. \n",
    "\n",
    "The provided load_dataset function will read in the data as a nested list with the outer dimension representing each sentence and inner dimensin representing each tagged word. The following cells will help you go through the representation of the data.\n",
    "\n",
    "The provided code converts all words to lowercase. It also adds a START and END tag for each sentence when it loads the sentence. These tags are just for standardization. They will not be considered in accuracy computation."
   ]
  },
  {
   "cell_type": "code",
   "execution_count": 1,
   "metadata": {},
   "outputs": [],
   "source": [
    "import utils\n",
    "train_set = utils.load_dataset('data/brown-training.txt')\n",
    "dev_set = utils.load_dataset('data/brown-test.txt')"
   ]
  },
  {
   "cell_type": "code",
   "execution_count": 2,
   "metadata": {},
   "outputs": [
    {
     "name": "stdout",
     "output_type": "stream",
     "text": [
      "training set has 35655 sentences\n",
      "dev set has 9912 sentences\n",
      "The first sentence of training set has 27 words\n",
      "The 10th word of the first sentence in the training set is \"investigation\" with ground-truth tag \"NOUN\"\n"
     ]
    }
   ],
   "source": [
    "print('training set has {} sentences'.format(len(train_set)))\n",
    "print('dev set has {} sentences'.format(len(dev_set)))\n",
    "print('The first sentence of training set has {} words'.format(len(train_set[0])))\n",
    "print('The 10th word of the first sentence in the training set is \"{}\" with ground-truth tag \"{}\"'.format(train_set[0][9][0], train_set[0][9][1]))"
   ]
  },
  {
   "cell_type": "code",
   "execution_count": 3,
   "metadata": {},
   "outputs": [
    {
     "name": "stdout",
     "output_type": "stream",
     "text": [
      "Here is an sample sentence from the training set:\n",
      " [('START', 'START'), ('the', 'DET'), ('fulton', 'NOUN'), ('county', 'NOUN'), ('grand', 'ADJ'), ('jury', 'NOUN'), ('said', 'VERB'), ('friday', 'NOUN'), ('an', 'DET'), ('investigation', 'NOUN'), ('of', 'IN'), (\"atlanta's\", 'NOUN'), ('recent', 'ADJ'), ('primary', 'NOUN'), ('election', 'NOUN'), ('produced', 'VERB'), ('``', 'PUNCT'), ('no', 'DET'), ('evidence', 'NOUN'), (\"''\", 'PUNCT'), ('that', 'CONJ'), ('any', 'DET'), ('irregularities', 'NOUN'), ('took', 'VERB'), ('place', 'NOUN'), ('.', 'PERIOD'), ('END', 'END')]\n"
     ]
    }
   ],
   "source": [
    "print('Here is an sample sentence from the training set:\\n', train_set[0])"
   ]
  },
  {
   "cell_type": "markdown",
   "metadata": {},
   "source": [
    "<a id='section2'></a>\n",
    "<h2>Tagset</h2>\n",
    "\n",
    "<p>\n",
    "  The following is an example set of 16 part of speech tags.  \n",
    "      This is the tagset used in the provided \n",
    "Brown corpus. <b><font color=red> But remember you should not hardcode anything regarding this tagset because we will test \n",
    "your code on two other datasets with a different tagset</font></b>.\n",
    "</p>\n",
    "\n",
    "<ul>\n",
    "\n",
    "<li> ADJ adjective\n",
    "<li> ADV adverb\n",
    "<li> IN preposition\n",
    "<li> PART particle (e.g. after verb, looks like a preposition)\n",
    "\n",
    "<li> PRON pronoun\n",
    "<li> NUM number\n",
    "<li> CONJ conjunction\n",
    "<li> UH filler, exclamation\n",
    "\n",
    "<li> TO infinitive\n",
    "<li> VERB verb\n",
    "<li> MODAL modal verb\n",
    "<li> DET determiner\n",
    "\n",
    "<li> NOUN noun\n",
    "<li> PERIOD end of sentence punctuation\n",
    "<li> PUNCT  other punctuation\n",
    "<li> X miscellaneous hard-to-classify items\n",
    "</ul>"
   ]
  },
  {
   "cell_type": "markdown",
   "metadata": {},
   "source": [
    "<a id='section3'></a>\n",
    "<h2>Taggers</h2>\n",
    "\n",
    "You will need to write two main types of tagging functions:\n",
    "\n",
    "<ul>\n",
    "<li> Baseline tagger\n",
    "<li> Viterbi: HMM tagger\n",
    "</ul>\n",
    "\n",
    "For implementation of this MP, You may use numpy (though it's not needed). <b><font color=red>You may not use other non-standard modules (including nltk)</font></b>.\n",
    "\n",
    "You should use the provided training data to train the parameters of your model and the test sets to test its accuracy. \n",
    "\n",
    "In addition, your code will be tested on two hidden datasets that are not available to you, which has different number of tags and words from the ones provided to you. So do NOT hardcode any of your important computations, such as initial probabilities, transition probabilities, emission probabilities, number or name of tags, and etc. We will inspect code for hardcoding computations/values and will penalize such implementations."
   ]
  },
  {
   "cell_type": "markdown",
   "metadata": {},
   "source": [
    "<a id='section4'></a>\n",
    "<h2>Baseline Tagger</h2>\n",
    "\n",
    "The Baseline tagger considers each word independently, ignoring previous words and tags. For each word w, it counts how many times w occurs with each tag in the training data. When processing the test data, it consistently gives w the tag that was seen most often. For unseen words, it should guess the tag that's seen the most often in training dataset.\n",
    "\n",
    "#### For all seen word w:\n",
    "$$Tag_{w}= \\operatorname*{argmax}_{t \\in T} (\\text{# times tag t is matched to word w}) $$\n",
    "#### For all unseen word w':\n",
    "$$Tag_{w'}= \\operatorname*{argmax}_{t \\in T} (\\text{# times tag t appears in the training set}) $$\n",
    "\n",
    "A correctly working baseline tagger should get about 93.9% accuracy on the Brown corpus development set, with over 90% accuracy on multitag words and over 69% on unseen words."
   ]
  },
  {
   "cell_type": "code",
   "execution_count": 4,
   "metadata": {},
   "outputs": [
    {
     "name": "stdout",
     "output_type": "stream",
     "text": [
      "\n",
      "This is the module you'll submit to the autograder.\n",
      "\n",
      "There are several function definitions, here, that raise RuntimeErrors.  You should replace\n",
      "each \"raise RuntimeError\" line with a line that performs the function specified in the\n",
      "function's docstring.\n",
      "\n",
      "For implementation of this MP, You may use numpy (though it's not needed). You may not \n",
      "use other non-standard modules (including nltk). Some modules that might be helpful are \n",
      "already imported for you.\n",
      "\n"
     ]
    }
   ],
   "source": [
    "import submitted\n",
    "import importlib\n",
    "importlib.reload(submitted)\n",
    "print(submitted.__doc__)"
   ]
  },
  {
   "cell_type": "code",
   "execution_count": 5,
   "metadata": {},
   "outputs": [
    {
     "name": "stdout",
     "output_type": "stream",
     "text": [
      "Help on function baseline in module submitted:\n",
      "\n",
      "baseline(train, test)\n",
      "    Implementation for the baseline tagger.\n",
      "    input:  training data (list of sentences, with tags on the words)\n",
      "            test data (list of sentences, no tags on the words, use utils.strip_tags to remove tags from data)\n",
      "    output: list of sentences, each sentence is a list of (word,tag) pairs.\n",
      "            E.g., [[(word1, tag1), (word2, tag2)], [(word3, tag3), (word4, tag4)]]\n",
      "\n"
     ]
    }
   ],
   "source": [
    "help(submitted.baseline)"
   ]
  },
  {
   "cell_type": "code",
   "execution_count": 6,
   "metadata": {},
   "outputs": [
    {
     "name": "stdout",
     "output_type": "stream",
     "text": [
      "time spent: 1.2834 sec\n",
      "accuracy: 0.9388\n",
      "multi-tag accuracy: 0.9021\n",
      "unseen word accuracy: 0.6782\n"
     ]
    }
   ],
   "source": [
    "import time\n",
    "importlib.reload(submitted)\n",
    "train_set = utils.load_dataset('data/brown-training.txt')\n",
    "dev_set = utils.load_dataset('data/brown-test.txt')\n",
    "start_time = time.time()\n",
    "predicted = submitted.baseline(train_set, utils.strip_tags(dev_set))\n",
    "time_spend = time.time() - start_time\n",
    "accuracy, _, _ = utils.evaluate_accuracies(predicted, dev_set)\n",
    "multi_tag_accuracy, unseen_words_accuracy, = utils.specialword_accuracies(train_set, predicted, dev_set)\n",
    "\n",
    "print(\"time spent: {0:.4f} sec\".format(time_spend))\n",
    "print(\"accuracy: {0:.4f}\".format(accuracy))\n",
    "print(\"multi-tag accuracy: {0:.4f}\".format(multi_tag_accuracy))\n",
    "print(\"unseen word accuracy: {0:.4f}\".format(unseen_words_accuracy))"
   ]
  },
  {
   "cell_type": "markdown",
   "metadata": {},
   "source": [
    "#### <a id='section5'></a>\n",
    "<h2>Viterbi: HMM Tagger</h2>\n",
    "<p>\n",
    "The Viterbi tagger should implement the HMM trellis (Viterbi) decoding algoirthm\n",
    "as seen in lecture or Jurafsky and Martin.   That is, the probability of each\n",
    "tag depends only on the previous tag, and the probability of each word depends\n",
    "only on the corresponding tag. This model will need to estimate\n",
    "three sets of probabilities:\n",
    "\n",
    "<ul>\n",
    "<li>  Initial probabilities (How often does each tag occur at the start of\n",
    "a sentence?)\n",
    "<li>  Transition probabilities (How often does tag \\(t_b\\)  follow tag\n",
    "\\(t_a\\)?)\n",
    "<li>  Emission probabilities (How often does tag t yield word w?)\n",
    "</ul>\n",
    "\n",
    "<p>\n",
    "You can assume that all sentences will begin with a START token, whose tag is START.\n",
    "<b><font color=red>So your initial probabilities will have a very restricted form, whether you choose to\n",
    "handcode appropriate numbers or learn them from the data.</font></b> The initial probabilities shown\n",
    "in the\n",
    "textbook/texture examples will be handled by\n",
    "transition probabilities from the START token to\n",
    "the first real word.\n",
    "\n",
    "<p>\n",
    "It's helpful to think of your processing in five steps:\n",
    "\n",
    "<ul>\n",
    "<li> Count occurrences of tags, tag pairs, tag/word pairs.\n",
    "<li> Compute smoothed probabilities\n",
    "<li> Take the log of each probability\n",
    "<li> Construct the trellis.   Notice that\n",
    "for each tag/time pair, you must store not only\n",
    "the probability of the best path but also a pointer to the\n",
    "previous tag/time pair in that path.\n",
    "<li> Return the best path through the trellis.\n",
    "</ul>\n",
    "\n",
    "<p>\n",
    "You'll need to use smoothing to get good performance.\n",
    "Make sure that your code for computing transition and emission probabilities\n",
    "never returns zero.\n",
    "Laplace smoothing is the method we use to smooth zero probability cases for calculating\n",
    "initial probabilities, transition probabilities, and emission probabilities.\n",
    "<p>\n",
    "For example, to smooth the emission probabilities, consider each tag individually.\n",
    "For a fixed tag T, you need to ensure that \\(P_e(W|T)\\) produces a non-zero number\n",
    "no matter what word W you give it.\n",
    "You can use Laplace smoothing (as in MP 2) to fill in a probability for\n",
    "\"UNKNOWN\" which will be the return value for all words W that were not\n",
    "seen in the training data.\n",
    "For this initial implementation of Viterbi, use the same Laplace smoothing\n",
    "constant \\(\\alpha\\) for all tags.\n",
    "\n",
    "<p>\n",
    "This simple Viterbi will perform slightly worse than the baseline\n",
    "code for the Brown development dataset (somewhat over 93% accuracy).\n",
    "However you should notice that it's doing better on the multiple-tag\n",
    "words (e.g. over 93.5%). <b><font color=red> Please make sure to follow the description to\n",
    "implement your algorithm and do not try to do improvement in this part,\n",
    "as it might make your code fail some of our test cases. You will be asked\n",
    "to improve the algorithm in the next part.</font></b>"
   ]
  },
  {
   "cell_type": "code",
   "execution_count": 7,
   "metadata": {},
   "outputs": [
    {
     "name": "stdout",
     "output_type": "stream",
     "text": [
      "Help on function viterbi in module submitted:\n",
      "\n",
      "viterbi(train, test)\n",
      "    Implementation for the viterbi tagger.\n",
      "    input:  training data (list of sentences, with tags on the words)\n",
      "            test data (list of sentences, no tags on the words)\n",
      "    output: list of sentences with tags on the words\n",
      "            E.g., [[(word1, tag1), (word2, tag2)], [(word3, tag3), (word4, tag4)]]\n",
      "\n"
     ]
    }
   ],
   "source": [
    "help(submitted.viterbi)"
   ]
  },
  {
   "cell_type": "code",
   "execution_count": 8,
   "metadata": {},
   "outputs": [
    {
     "name": "stdout",
     "output_type": "stream",
     "text": [
      "time spent: 28.7358 sec\n",
      "accuracy: 0.9372\n",
      "multi-tag accuracy: 0.9373\n",
      "unseen word accuracy: 0.2393\n"
     ]
    }
   ],
   "source": [
    "import time\n",
    "importlib.reload(submitted)\n",
    "train_set = utils.load_dataset('data/brown-training.txt')\n",
    "dev_set = utils.load_dataset('data/brown-test.txt')\n",
    "start_time = time.time()\n",
    "predicted = submitted.viterbi(train_set, utils.strip_tags(dev_set))\n",
    "time_spend = time.time() - start_time\n",
    "accuracy, _, _ = utils.evaluate_accuracies(predicted, dev_set)\n",
    "multi_tag_accuracy, unseen_words_accuracy, = utils.specialword_accuracies(train_set, predicted, dev_set)\n",
    "\n",
    "print(\"time spent: {0:.4f} sec\".format(time_spend))\n",
    "print(\"accuracy: {0:.4f}\".format(accuracy))\n",
    "print(\"multi-tag accuracy: {0:.4f}\".format(multi_tag_accuracy))\n",
    "print(\"unseen word accuracy: {0:.4f}\".format(unseen_words_accuracy))"
   ]
  },
  {
   "cell_type": "markdown",
   "metadata": {},
   "source": [
    "<a id='section6'></a>\n",
    "<h2>Viterbi_ec: Improving HMM Tagger (Optional, for Extra Credit only)</h2>\n",
    "<p>\n",
    "The previous Vitebi tagger fails to beat the baseline because it does very poorly on\n",
    "unseen words.   It's assuming that all tags have similar probability for these\n",
    "words, but we know that a new word is much more likely to have\n",
    "the tag NOUN than (say) CONJ.\n",
    "For this part, you'll improve your emission smoothing to match the real\n",
    "probabilities for unseen words.\n",
    "\n",
    "<p>\n",
    "Words that appear zero times in the training data (out-of-vocabulary or OOV words) and words that appear once in the training \n",
    "data (<a href=\"https://en.wikipedia.org/wiki/Hapax_legomenon\">hapax</a> words) tend to have similar parts of speech (POS).  \n",
    "For this reason, instead of assuming that OOV  words are uniformly distributed across all POS, we can get a much better\n",
    "estimate of their distribution by measuring the distribution of hapax words.\n",
    "Extract these words from the training data and calculate the probability of\n",
    "each tag on them.   When you do your Laplace smoothing of the emission probabilities\n",
    "for tag T, scale the Laplace smoothing constant by P(T|hapax), i.e., the probability that tag T\n",
    "occurs given that the word was hapax. Remember that Laplace smoothing acts by reducing probability \n",
    "mass for high-frequency words, and re-assigning some of that probability mass to low-frequency words. A large smoothing \n",
    "constant can end up skewing probability masses a lot, so experiment with small orders of magnitude for this hyperparameter. \n",
    "<p>\n",
    "This optimized version of the Viterbi code should have a significantly\n",
    "better unseen word accuracy on the Brown development dataset,\n",
    "e.g. over 66.5%.  It also beat the baseline on overall accuracy (e.g.\n",
    "95.5%).\n",
    "You should write your optimized version of Viterbi under the viterbi_ec function in\n",
    "submitted.py.\n",
    "<p>\n",
    "The hapax word tag probabilities may be different from one dataset to another, \n",
    "so your <tt>viterbi_ec</tt> method should compute them dynamically from its training data each\n",
    "time it runs.\n",
    "<p>\n",
    "  Hints\n",
    "\n",
    "<ul>\n",
    "    <li> You should start with the original implementation of your viterbi algorithm in the \n",
    "        previous part. As long as you understand what you need to do, the change in implementation\n",
    "        should not be substantial.\n",
    "    <li> Tag 'X' rarely occurs in the dataset.  Setting a high\n",
    "       value for the Laplace smoothing constant may overly smooth the emission probabilities\n",
    "      and break your statistical computations.  A small value for the\n",
    "      Laplace smoothing constant, e.g. 1e-5, may help.\n",
    "    <li> It's not advisable to use global variables in your implementation since\n",
    "      gradescope runs a number of different tests within the same python environment.\n",
    "      Global values set during one test will carry over to subsequent tests.\n",
    "</ul>\n"
   ]
  },
  {
   "cell_type": "code",
   "execution_count": 9,
   "metadata": {},
   "outputs": [
    {
     "name": "stdout",
     "output_type": "stream",
     "text": [
      "Help on function viterbi_ec in module submitted:\n",
      "\n",
      "viterbi_ec(train, test)\n",
      "    Implementation for the improved viterbi tagger.\n",
      "    input:  training data (list of sentences, with tags on the words). E.g.,  [[(word1, tag1), (word2, tag2)], [(word3, tag3), (word4, tag4)]]\n",
      "            test data (list of sentences, no tags on the words). E.g.,  [[word1, word2], [word3, word4]]\n",
      "    output: list of sentences, each sentence is a list of (word,tag) pairs.\n",
      "            E.g., [[(word1, tag1), (word2, tag2)], [(word3, tag3), (word4, tag4)]]\n",
      "\n"
     ]
    }
   ],
   "source": [
    "help(submitted.viterbi_ec)"
   ]
  },
  {
   "cell_type": "code",
   "execution_count": 10,
   "metadata": {},
   "outputs": [
    {
     "name": "stdout",
     "output_type": "stream",
     "text": [
      "time spent: 28.8134 sec\n",
      "accuracy: 0.9565\n",
      "multi-tag accuracy: 0.9418\n",
      "unseen word accuracy: 0.6550\n"
     ]
    }
   ],
   "source": [
    "import time\n",
    "importlib.reload(submitted)\n",
    "train_set = utils.load_dataset('data/brown-training.txt')\n",
    "dev_set = utils.load_dataset('data/brown-test.txt')\n",
    "start_time = time.time()\n",
    "predicted = submitted.viterbi_ec(train_set, utils.strip_tags(dev_set))\n",
    "time_spend = time.time() - start_time\n",
    "accuracy, _, _ = utils.evaluate_accuracies(predicted, dev_set)\n",
    "multi_tag_accuracy, unseen_words_accuracy, = utils.specialword_accuracies(train_set, predicted, dev_set)\n",
    "\n",
    "print(\"time spent: {0:.4f} sec\".format(time_spend))\n",
    "print(\"accuracy: {0:.4f}\".format(accuracy))\n",
    "print(\"multi-tag accuracy: {0:.4f}\".format(multi_tag_accuracy))\n",
    "print(\"unseen word accuracy: {0:.4f}\".format(unseen_words_accuracy))"
   ]
  },
  {
   "cell_type": "markdown",
   "metadata": {},
   "source": [
    "<a id='grade'></a>\n",
    "## Grade your homework"
   ]
  },
  {
   "cell_type": "markdown",
   "metadata": {},
   "source": [
    "If you've reached this point, and all of the above sections work, then you're ready to try grading your homework! Before you submit it to Gradescope, try grading it on your own machine. This will run some visible test cases.\n",
    "\n",
    "The exclamation point (!) tells python to run the following as a shell command. Obviously you don't need to run the code this way -- this usage is here just to remind you that you can also, if you wish, run this command in a terminal window.\n",
    "\n",
    "For the visible test, if you get full points for the main parts (baseline and viterbi), you should get 50 points in total for completing baseline and viterbi functions. If you get full points for improving the viterbi, you should get 5 points in total for completing viterbi_ec function. The remaining 55 points are from the hidden tests on gradescope (50 for main parts + 5 for extra credit)."
   ]
  },
  {
   "cell_type": "code",
   "execution_count": 12,
   "metadata": {},
   "outputs": [
    {
     "name": "stdout",
     "output_type": "stream",
     "text": [
      "{\r\n",
      "    \"tests\": [\r\n",
      "        {\r\n",
      "            \"name\": \"test baseline on Brown\",\r\n",
      "            \"score\": 20,\r\n",
      "            \"max_score\": 20,\r\n",
      "            \"output\": \"time spent: 1.1647 sec; accuracy: 0.9388; multi-tag accuracy: 0.9021; unseen word accuracy: 0.6782; \",\r\n",
      "            \"visibility\": \"visible\"\r\n",
      "        },\r\n",
      "        {\r\n",
      "            \"name\": \"test viterbi on brown\",\r\n",
      "            \"score\": 30.0,\r\n",
      "            \"max_score\": 30,\r\n",
      "            \"output\": \"start synthetic test; Synthetic test: passed!; time spent: 28.9366 sec; accuracy: 0.9372; multi-tag accuracy: 0.9373; unseen word accuracy: 0.2393; +10 points for accuracy, multi_tag_accuracy, unseen_words_accuracy above [0.87, 0.87, 0.17] respectively.; +10 points for accuracy, multi_tag_accuracy, unseen_words_accuracy above [0.9, 0.9, 0.19] respectively.; +10 points for accuracy, multi_tag_accuracy, unseen_words_accuracy above [0.925, 0.925, 0.2] respectively.; \",\r\n",
      "            \"visibility\": \"visible\"\r\n",
      "        },\r\n",
      "        {\r\n",
      "            \"name\": \"test viterbi_ec on Brown\",\r\n",
      "            \"score\": 5.0,\r\n",
      "            \"max_score\": 5,\r\n",
      "            \"output\": \"time spent: 29.1041 sec; accuracy: 0.9565; multi-tag accuracy: 0.9418; unseen word accuracy: 0.6550; +1.5 points for accuracy, multi_tag_accuracy, unseen_words_accuracy above [0.94, 0.92, 0.5] respectively.; +1.5 points for accuracy, multi_tag_accuracy, unseen_words_accuracy above [0.94, 0.92, 0.6] respectively.; +2 points for accuracy, multi_tag_accuracy, unseen_words_accuracy above [0.95, 0.932, 0.65] respectively.; \",\r\n",
      "            \"visibility\": \"visible\"\r\n",
      "        }\r\n",
      "    ],\r\n",
      "    \"leaderboard\": [],\r\n",
      "    \"visibility\": \"visible\",\r\n",
      "    \"execution_time\": \"63.74\",\r\n",
      "    \"score\": 55.0\r\n",
      "}\r\n"
     ]
    }
   ],
   "source": [
    "!python grade.py"
   ]
  },
  {
   "cell_type": "markdown",
   "metadata": {},
   "source": [
    "Now you should try uploading `submitted.py` to <a href=\"https://www.gradescope.com/courses/486387\">Gradescope</a>.  \n",
    "\n",
    "Gradescope will run the same visible tests that you just ran on your own machine, plus some additional hidden tests.  It's possible that your code passes all the visible tests, but fails the hidden tests.  If that happens, then it probably means that you hard-coded a number into your function definition, instead of using the input parameter that you were supposed to use.  Debug by running your function with a variety of different input parameters, and see if you can get it to respond correctly in all cases.\n",
    "\n",
    "Once your code works perfectly on Gradescope, with no errors, then you are done with the MP.  Congratulations!"
   ]
  },
  {
   "cell_type": "markdown",
   "metadata": {},
   "source": [
    "<a id='section3'></a>"
   ]
  },
  {
   "cell_type": "markdown",
   "metadata": {},
   "source": [
    "<a id='section4'></a>"
   ]
  },
  {
   "cell_type": "markdown",
   "metadata": {},
   "source": [
    "<a id='grade'></a>"
   ]
  }
 ],
 "metadata": {
  "kernelspec": {
   "display_name": "Python 3",
   "language": "python",
   "name": "python3"
  },
  "language_info": {
   "codemirror_mode": {
    "name": "ipython",
    "version": 3
   },
   "file_extension": ".py",
   "mimetype": "text/x-python",
   "name": "python",
   "nbconvert_exporter": "python",
   "pygments_lexer": "ipython3",
   "version": "3.8.3"
  },
  "vscode": {
   "interpreter": {
    "hash": "ad2bdc8ecc057115af97d19610ffacc2b4e99fae6737bb82f5d7fb13d2f2c186"
   }
  }
 },
 "nbformat": 4,
 "nbformat_minor": 4
}
